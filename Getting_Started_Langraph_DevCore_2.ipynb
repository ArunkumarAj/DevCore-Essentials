{
  "nbformat": 4,
  "nbformat_minor": 0,
  "metadata": {
    "colab": {
      "provenance": []
    },
    "kernelspec": {
      "name": "python3",
      "display_name": "Python 3"
    },
    "language_info": {
      "name": "python"
    }
  },
  "cells": [
    {
      "cell_type": "markdown",
      "source": [
        "## Chatbots With Langgraph"
      ],
      "metadata": {
        "id": "BRGZBA60Bo3O"
      }
    },
    {
      "cell_type": "code",
      "source": [
        "!pip install --quiet langgraph langsmith"
      ],
      "metadata": {
        "id": "ZCANZS2rBppr"
      },
      "execution_count": 1,
      "outputs": []
    },
    {
      "cell_type": "markdown",
      "source": [
        "### To Get LangSmith api_key :: https://smith.langchain.com/"
      ],
      "metadata": {
        "id": "z6rVsXTZEi5E"
      }
    },
    {
      "cell_type": "code",
      "source": [
        "from google.colab import userdata\n",
        "groq_api_key=userdata.get('groq_api_key')\n",
        "langsmith=userdata.get('LANGSMITH_API_KEY')\n",
        "print(langsmith)\n"
      ],
      "metadata": {
        "colab": {
          "base_uri": "https://localhost:8080/"
        },
        "id": "q-KUnEWJB3Bm",
        "outputId": "c69bafff-436a-411a-aa7f-ecb7688b3456"
      },
      "execution_count": 2,
      "outputs": [
        {
          "output_type": "stream",
          "name": "stdout",
          "text": [
            "\n"
          ]
        }
      ]
    },
    {
      "cell_type": "code",
      "source": [
        "# This is to tracking the every input and other information in Langsmith portal under \"CourseLanggraph\"\n",
        "import os\n",
        "os.environ[\"LANGCHAIN_API_KEY\"] = langsmith\n",
        "os.environ[\"LANGCHAIN_TRACING_V2\"]=\"true\"\n",
        "os.environ[\"LANGCHAIN_PROJECT\"]=\"CourseLanggraph\""
      ],
      "metadata": {
        "collapsed": true,
        "id": "vm5ZjinZBvqF"
      },
      "execution_count": 3,
      "outputs": []
    },
    {
      "cell_type": "code",
      "source": [
        "from langchain_groq import ChatGroq"
      ],
      "metadata": {
        "id": "TFKgf708E5Ra"
      },
      "execution_count": 4,
      "outputs": []
    },
    {
      "cell_type": "code",
      "source": [
        "llm=ChatGroq(groq_api_key=groq_api_key,model_name=\"Gemma2-9b-It\")\n",
        "llm"
      ],
      "metadata": {
        "colab": {
          "base_uri": "https://localhost:8080/"
        },
        "id": "8uEAFkebFOna",
        "outputId": "deb608aa-4168-4a34-a63a-c15f7f014375"
      },
      "execution_count": 5,
      "outputs": [
        {
          "output_type": "execute_result",
          "data": {
            "text/plain": [
              "ChatGroq(client=<groq.resources.chat.completions.Completions object at 0x7a8ab4ba51d0>, async_client=<groq.resources.chat.completions.AsyncCompletions object at 0x7a8ab4ba7850>, model_name='Gemma2-9b-It', model_kwargs={}, groq_api_key=SecretStr('**********'))"
            ]
          },
          "metadata": {},
          "execution_count": 5
        }
      ]
    },
    {
      "cell_type": "markdown",
      "source": [
        "## Start Building Chatbot Using Langgraph\n",
        "\n",
        "---\n",
        "\n"
      ],
      "metadata": {
        "id": "UTdcJ3keJ4oE"
      }
    },
    {
      "cell_type": "code",
      "source": [
        "from typing import Annotated\n",
        "from typing_extensions import TypedDict\n",
        "from langgraph.graph import StateGraph,START,END\n",
        "from langgraph.graph.message import add_messages"
      ],
      "metadata": {
        "id": "DM4vlPA_FQdM"
      },
      "execution_count": 6,
      "outputs": []
    },
    {
      "cell_type": "code",
      "source": [
        "class State(TypedDict):\n",
        "  # Messages have the type \"list\". The `add_messages` function\n",
        "    # in the annotation defines how this state key should be updated\n",
        "    # (in this case, it appends messages to the list, rather than overwriting them)\n",
        "  messages:Annotated[list,add_messages]\n",
        "\n",
        "graph_builder=StateGraph(State)\n"
      ],
      "metadata": {
        "id": "CL_1z3DOJ7OF"
      },
      "execution_count": 7,
      "outputs": []
    },
    {
      "cell_type": "code",
      "source": [
        "graph_builder"
      ],
      "metadata": {
        "colab": {
          "base_uri": "https://localhost:8080/"
        },
        "id": "K60O_ndBJ-K3",
        "outputId": "e2534ce0-4523-4f6a-bdfc-800ee6f5c49f"
      },
      "execution_count": 8,
      "outputs": [
        {
          "output_type": "execute_result",
          "data": {
            "text/plain": [
              "<langgraph.graph.state.StateGraph at 0x7a8ab4aaffd0>"
            ]
          },
          "metadata": {},
          "execution_count": 8
        }
      ]
    },
    {
      "cell_type": "code",
      "source": [
        "def chatbot(state:State):\n",
        "  return {\"messages\":llm.invoke(state['messages'])}"
      ],
      "metadata": {
        "id": "sub6qk0tKBBs"
      },
      "execution_count": 9,
      "outputs": []
    },
    {
      "cell_type": "code",
      "source": [
        "graph_builder.add_node(\"chatbot\",chatbot)"
      ],
      "metadata": {
        "colab": {
          "base_uri": "https://localhost:8080/"
        },
        "id": "zp2AYUi6KC7V",
        "outputId": "c494b460-1b07-4173-8d96-f849a1fb2089"
      },
      "execution_count": 10,
      "outputs": [
        {
          "output_type": "execute_result",
          "data": {
            "text/plain": [
              "<langgraph.graph.state.StateGraph at 0x7a8ab4aaffd0>"
            ]
          },
          "metadata": {},
          "execution_count": 10
        }
      ]
    },
    {
      "cell_type": "code",
      "source": [
        "graph_builder"
      ],
      "metadata": {
        "colab": {
          "base_uri": "https://localhost:8080/"
        },
        "id": "3KntSZhFKF6H",
        "outputId": "383d96dd-0494-4774-b84a-b37b8830f24e"
      },
      "execution_count": 11,
      "outputs": [
        {
          "output_type": "execute_result",
          "data": {
            "text/plain": [
              "<langgraph.graph.state.StateGraph at 0x7a8ab4aaffd0>"
            ]
          },
          "metadata": {},
          "execution_count": 11
        }
      ]
    },
    {
      "cell_type": "code",
      "source": [
        "graph_builder.add_edge(START,\"chatbot\")\n",
        "graph_builder.add_edge(\"chatbot\",END)"
      ],
      "metadata": {
        "colab": {
          "base_uri": "https://localhost:8080/"
        },
        "id": "lHdQS7B_KLxR",
        "outputId": "a0aac147-3d93-4f1f-b3cb-482d2d1cab11"
      },
      "execution_count": 12,
      "outputs": [
        {
          "output_type": "execute_result",
          "data": {
            "text/plain": [
              "<langgraph.graph.state.StateGraph at 0x7a8ab4aaffd0>"
            ]
          },
          "metadata": {},
          "execution_count": 12
        }
      ]
    },
    {
      "cell_type": "code",
      "source": [
        "graph=graph_builder.compile()"
      ],
      "metadata": {
        "id": "UbU0rTcLKP-7"
      },
      "execution_count": 13,
      "outputs": []
    },
    {
      "cell_type": "code",
      "source": [
        "from IPython.display import Image, display\n",
        "try:\n",
        "  display(Image(graph.get_graph().draw_mermaid_png()))\n",
        "except Exception:\n",
        "  pass"
      ],
      "metadata": {
        "colab": {
          "base_uri": "https://localhost:8080/",
          "height": 251
        },
        "id": "uBDthEBpKSHO",
        "outputId": "9b0a0b6f-2863-4f14-9df2-cd82c440452e"
      },
      "execution_count": 14,
      "outputs": [
        {
          "output_type": "display_data",
          "data": {
            "image/png": "[encoded data removed]",
            "text/plain": [
              "<IPython.core.display.Image object>"
            ]
          },
          "metadata": {}
        }
      ]
    },
    {
      "cell_type": "code",
      "source": [
        "while True:\n",
        "  user_input=input(\"User: \")\n",
        "  if user_input.lower() in [\"quit\",\"q\"]:\n",
        "    print(\"Good Bye\")\n",
        "    break\n",
        "  for event in graph.stream({'messages':(\"user\",user_input)}):\n",
        "    print(event.values())\n",
        "    for value in event.values():\n",
        "      print(value['messages'])\n",
        "      print(\"Assistant:\",value[\"messages\"].content)"
      ],
      "metadata": {
        "colab": {
          "base_uri": "https://localhost:8080/"
        },
        "id": "nGP30vG2KUnG",
        "outputId": "5938a1de-ed86-4333-ca78-def82498f56a"
      },
      "execution_count": 15,
      "outputs": [
        {
          "output_type": "stream",
          "name": "stdout",
          "text": [
            "User: Hi\n",
            "dict_values([{'messages': AIMessage(content='Hi! 👋 \\n\\nWhat can I do for you today? 😊\\n', additional_kwargs={}, response_metadata={'token_usage': {'completion_tokens': 17, 'prompt_tokens': 10, 'total_tokens': 27, 'completion_time': 0.030909091, 'prompt_time': 4.2e-07, 'queue_time': 0.055723194999999996, 'total_time': 0.030909511}, 'model_name': 'Gemma2-9b-It', 'system_fingerprint': 'fp_10c08bf97d', 'finish_reason': 'stop', 'logprobs': None}, id='run-79f135db-32cf-42f3-bbf3-7ada971aadd4-0', usage_metadata={'input_tokens': 10, 'output_tokens': 17, 'total_tokens': 27})}])\n",
            "content='Hi! 👋 \\n\\nWhat can I do for you today? 😊\\n' additional_kwargs={} response_metadata={'token_usage': {'completion_tokens': 17, 'prompt_tokens': 10, 'total_tokens': 27, 'completion_time': 0.030909091, 'prompt_time': 4.2e-07, 'queue_time': 0.055723194999999996, 'total_time': 0.030909511}, 'model_name': 'Gemma2-9b-It', 'system_fingerprint': 'fp_10c08bf97d', 'finish_reason': 'stop', 'logprobs': None} id='run-79f135db-32cf-42f3-bbf3-7ada971aadd4-0' usage_metadata={'input_tokens': 10, 'output_tokens': 17, 'total_tokens': 27}\n",
            "Assistant: Hi! 👋 \n",
            "\n",
            "What can I do for you today? 😊\n",
            "\n",
            "User: tell me the steps to follow that to train my own LLM Model in my Commercial GPU 3050Ti. start from data collecting, data preprocessing, data labelling, spliting if requred, training using perfect good model and so on till the deployment!\n",
            "dict_values([{'messages': AIMessage(content=\"Training your own LLM on a commercial GPU like the 3050 Ti is a challenging but achievable task. Here's a breakdown of the steps involved:\\n\\n**1. Data Collection & Curation**\\n\\n* **Define your domain:** What kind of tasks do you want your LLM to excel at? (e.g., code generation, creative writing, question answering). This will guide your data selection.\\n* **Gather data:** \\n    * **Public datasets:** Explore repositories like HuggingFace Datasets, Common Crawl, and OpenWebText for relevant text data.\\n    * **Web scraping:** Carefully and ethically scrape data from websites related to your domain. Respect robots.txt and terms of service.\\n    * **Internal data:** If applicable, utilize your own company's documents, emails, or other text-based resources.\\n* **Clean and filter:** Remove duplicates, irrelevant information (HTML tags, special characters), personal data (PII), and offensive content.\\n\\n**2. Data Preprocessing**\\n\\n* **Tokenization:** Break down text into smaller units (words or subwords) using a tokenizer like BPE or WordPiece. This prepares the text for the model.\\n* **Normalization:**  \\n    * Convert text to lowercase.\\n    * Handle contractions and abbreviations.\\n    * Standardize punctuation.\\n* **Encoding:**  Represent tokens as numerical vectors using techniques like word embeddings (Word2Vec, GloVe) or learn embeddings directly during training.\\n\\n**3. Data Labeling (Optional)**\\n\\n* **Supervised learning:** If you want your LLM to perform specific tasks (e.g., sentiment analysis, text classification), you'll need labeled data. This means assigning categories or tags to your text examples.\\n* **Unsupervised learning:** For more general-purpose LLMs, labeling might not be necessary.\\n\\n**4. Data Splitting**\\n\\n* **Training set:** The largest portion (e.g., 80%) used to train the model.\\n* **Validation set:** A smaller portion (e.g., 10%) used to monitor performance during training and tune hyperparameters.\\n* **Test set:** A separate portion (e.g., 10%) used to evaluate the final model's performance on unseen data.\\n\\n**5. Choosing a Model Architecture**\\n\\n* **Transformer-based:** Architectures like GPT, BERT, and T5 are highly effective for LLMs.\\n* **Size matters:**  The 3050 Ti has 8GB of VRAM, which limits the size of models you can train effectively. Start with smaller models and scale up if needed.\\n\\n**6. Training**\\n\\n* **Framework:** Use deep learning frameworks like PyTorch or TensorFlow.\\n* **Hyperparameter tuning:** Experiment with learning rate, batch size, number of epochs, and other settings to find the best configuration.\\n* **Monitor progress:** Track the model's performance on the validation set to prevent overfitting.\\n* **Save checkpoints:** Regularly save your model's weights during training to avoid losing progress.\\n\\n**7. Evaluation & Testing**\\n\\n* **Evaluate on test set:** Assess the model's performance using relevant metrics (e.g., perplexity, accuracy, BLEU score) on the held-out test data.\\n* **Analyze results:** Identify strengths and weaknesses of the model.\\n\\n**8. Deployment**\\n\\n* **Cloud hosting:** Services like AWS, Google Cloud, or Azure offer scalable infrastructure for deploying LLMs.\\n* **On-premise server:** If you have the resources, host the model on your own server.\\n* **API:** Create an API to allow other applications to interact with your LLM.\\n\\n**Important Considerations:**\\n\\n* **Computational resources:** Training LLMs is computationally intensive. Even with a 3050 Ti, it will take time and potentially require cloud computing for larger models.\\n* **Dataset size:** The quality and quantity of your training data significantly impact the model's performance.\\n* **Ethical implications:** Be mindful of biases in your data and the potential misuse of your LLM.\\n\\n**Remember:** Training an LLM is an iterative process. You'll likely need to experiment with different datasets, architectures, and training techniques to achieve satisfactory results.\\n\\n\\nLet me know if you have questions about any of these steps.\\n\", additional_kwargs={}, response_metadata={'token_usage': {'completion_tokens': 909, 'prompt_tokens': 63, 'total_tokens': 972, 'completion_time': 1.652727273, 'prompt_time': 0.001859016, 'queue_time': 0.055136332, 'total_time': 1.654586289}, 'model_name': 'Gemma2-9b-It', 'system_fingerprint': 'fp_10c08bf97d', 'finish_reason': 'stop', 'logprobs': None}, id='run-103ddf50-d387-4535-888f-71483ed0e976-0', usage_metadata={'input_tokens': 63, 'output_tokens': 909, 'total_tokens': 972})}])\n",
            "content=\"Training your own LLM on a commercial GPU like the 3050 Ti is a challenging but achievable task. Here's a breakdown of the steps involved:\\n\\n**1. Data Collection & Curation**\\n\\n* **Define your domain:** What kind of tasks do you want your LLM to excel at? (e.g., code generation, creative writing, question answering). This will guide your data selection.\\n* **Gather data:** \\n    * **Public datasets:** Explore repositories like HuggingFace Datasets, Common Crawl, and OpenWebText for relevant text data.\\n    * **Web scraping:** Carefully and ethically scrape data from websites related to your domain. Respect robots.txt and terms of service.\\n    * **Internal data:** If applicable, utilize your own company's documents, emails, or other text-based resources.\\n* **Clean and filter:** Remove duplicates, irrelevant information (HTML tags, special characters), personal data (PII), and offensive content.\\n\\n**2. Data Preprocessing**\\n\\n* **Tokenization:** Break down text into smaller units (words or subwords) using a tokenizer like BPE or WordPiece. This prepares the text for the model.\\n* **Normalization:**  \\n    * Convert text to lowercase.\\n    * Handle contractions and abbreviations.\\n    * Standardize punctuation.\\n* **Encoding:**  Represent tokens as numerical vectors using techniques like word embeddings (Word2Vec, GloVe) or learn embeddings directly during training.\\n\\n**3. Data Labeling (Optional)**\\n\\n* **Supervised learning:** If you want your LLM to perform specific tasks (e.g., sentiment analysis, text classification), you'll need labeled data. This means assigning categories or tags to your text examples.\\n* **Unsupervised learning:** For more general-purpose LLMs, labeling might not be necessary.\\n\\n**4. Data Splitting**\\n\\n* **Training set:** The largest portion (e.g., 80%) used to train the model.\\n* **Validation set:** A smaller portion (e.g., 10%) used to monitor performance during training and tune hyperparameters.\\n* **Test set:** A separate portion (e.g., 10%) used to evaluate the final model's performance on unseen data.\\n\\n**5. Choosing a Model Architecture**\\n\\n* **Transformer-based:** Architectures like GPT, BERT, and T5 are highly effective for LLMs.\\n* **Size matters:**  The 3050 Ti has 8GB of VRAM, which limits the size of models you can train effectively. Start with smaller models and scale up if needed.\\n\\n**6. Training**\\n\\n* **Framework:** Use deep learning frameworks like PyTorch or TensorFlow.\\n* **Hyperparameter tuning:** Experiment with learning rate, batch size, number of epochs, and other settings to find the best configuration.\\n* **Monitor progress:** Track the model's performance on the validation set to prevent overfitting.\\n* **Save checkpoints:** Regularly save your model's weights during training to avoid losing progress.\\n\\n**7. Evaluation & Testing**\\n\\n* **Evaluate on test set:** Assess the model's performance using relevant metrics (e.g., perplexity, accuracy, BLEU score) on the held-out test data.\\n* **Analyze results:** Identify strengths and weaknesses of the model.\\n\\n**8. Deployment**\\n\\n* **Cloud hosting:** Services like AWS, Google Cloud, or Azure offer scalable infrastructure for deploying LLMs.\\n* **On-premise server:** If you have the resources, host the model on your own server.\\n* **API:** Create an API to allow other applications to interact with your LLM.\\n\\n**Important Considerations:**\\n\\n* **Computational resources:** Training LLMs is computationally intensive. Even with a 3050 Ti, it will take time and potentially require cloud computing for larger models.\\n* **Dataset size:** The quality and quantity of your training data significantly impact the model's performance.\\n* **Ethical implications:** Be mindful of biases in your data and the potential misuse of your LLM.\\n\\n**Remember:** Training an LLM is an iterative process. You'll likely need to experiment with different datasets, architectures, and training techniques to achieve satisfactory results.\\n\\n\\nLet me know if you have questions about any of these steps.\\n\" additional_kwargs={} response_metadata={'token_usage': {'completion_tokens': 909, 'prompt_tokens': 63, 'total_tokens': 972, 'completion_time': 1.652727273, 'prompt_time': 0.001859016, 'queue_time': 0.055136332, 'total_time': 1.654586289}, 'model_name': 'Gemma2-9b-It', 'system_fingerprint': 'fp_10c08bf97d', 'finish_reason': 'stop', 'logprobs': None} id='run-103ddf50-d387-4535-888f-71483ed0e976-0' usage_metadata={'input_tokens': 63, 'output_tokens': 909, 'total_tokens': 972}\n",
            "Assistant: Training your own LLM on a commercial GPU like the 3050 Ti is a challenging but achievable task. Here's a breakdown of the steps involved:\n",
            "\n",
            "**1. Data Collection & Curation**\n",
            "\n",
            "* **Define your domain:** What kind of tasks do you want your LLM to excel at? (e.g., code generation, creative writing, question answering). This will guide your data selection.\n",
            "* **Gather data:** \n",
            "    * **Public datasets:** Explore repositories like HuggingFace Datasets, Common Crawl, and OpenWebText for relevant text data.\n",
            "    * **Web scraping:** Carefully and ethically scrape data from websites related to your domain. Respect robots.txt and terms of service.\n",
            "    * **Internal data:** If applicable, utilize your own company's documents, emails, or other text-based resources.\n",
            "* **Clean and filter:** Remove duplicates, irrelevant information (HTML tags, special characters), personal data (PII), and offensive content.\n",
            "\n",
            "**2. Data Preprocessing**\n",
            "\n",
            "* **Tokenization:** Break down text into smaller units (words or subwords) using a tokenizer like BPE or WordPiece. This prepares the text for the model.\n",
            "* **Normalization:**  \n",
            "    * Convert text to lowercase.\n",
            "    * Handle contractions and abbreviations.\n",
            "    * Standardize punctuation.\n",
            "* **Encoding:**  Represent tokens as numerical vectors using techniques like word embeddings (Word2Vec, GloVe) or learn embeddings directly during training.\n",
            "\n",
            "**3. Data Labeling (Optional)**\n",
            "\n",
            "* **Supervised learning:** If you want your LLM to perform specific tasks (e.g., sentiment analysis, text classification), you'll need labeled data. This means assigning categories or tags to your text examples.\n",
            "* **Unsupervised learning:** For more general-purpose LLMs, labeling might not be necessary.\n",
            "\n",
            "**4. Data Splitting**\n",
            "\n",
            "* **Training set:** The largest portion (e.g., 80%) used to train the model.\n",
            "* **Validation set:** A smaller portion (e.g., 10%) used to monitor performance during training and tune hyperparameters.\n",
            "* **Test set:** A separate portion (e.g., 10%) used to evaluate the final model's performance on unseen data.\n",
            "\n",
            "**5. Choosing a Model Architecture**\n",
            "\n",
            "* **Transformer-based:** Architectures like GPT, BERT, and T5 are highly effective for LLMs.\n",
            "* **Size matters:**  The 3050 Ti has 8GB of VRAM, which limits the size of models you can train effectively. Start with smaller models and scale up if needed.\n",
            "\n",
            "**6. Training**\n",
            "\n",
            "* **Framework:** Use deep learning frameworks like PyTorch or TensorFlow.\n",
            "* **Hyperparameter tuning:** Experiment with learning rate, batch size, number of epochs, and other settings to find the best configuration.\n",
            "* **Monitor progress:** Track the model's performance on the validation set to prevent overfitting.\n",
            "* **Save checkpoints:** Regularly save your model's weights during training to avoid losing progress.\n",
            "\n",
            "**7. Evaluation & Testing**\n",
            "\n",
            "* **Evaluate on test set:** Assess the model's performance using relevant metrics (e.g., perplexity, accuracy, BLEU score) on the held-out test data.\n",
            "* **Analyze results:** Identify strengths and weaknesses of the model.\n",
            "\n",
            "**8. Deployment**\n",
            "\n",
            "* **Cloud hosting:** Services like AWS, Google Cloud, or Azure offer scalable infrastructure for deploying LLMs.\n",
            "* **On-premise server:** If you have the resources, host the model on your own server.\n",
            "* **API:** Create an API to allow other applications to interact with your LLM.\n",
            "\n",
            "**Important Considerations:**\n",
            "\n",
            "* **Computational resources:** Training LLMs is computationally intensive. Even with a 3050 Ti, it will take time and potentially require cloud computing for larger models.\n",
            "* **Dataset size:** The quality and quantity of your training data significantly impact the model's performance.\n",
            "* **Ethical implications:** Be mindful of biases in your data and the potential misuse of your LLM.\n",
            "\n",
            "**Remember:** Training an LLM is an iterative process. You'll likely need to experiment with different datasets, architectures, and training techniques to achieve satisfactory results.\n",
            "\n",
            "\n",
            "Let me know if you have questions about any of these steps.\n",
            "\n",
            "User: q\n",
            "Good Bye\n"
          ]
        }
      ]
    },
    {
      "cell_type": "code",
      "source": [],
      "metadata": {
        "id": "QA7NtQkdKXOh"
      },
      "execution_count": 15,
      "outputs": []
    }
  ]
}
